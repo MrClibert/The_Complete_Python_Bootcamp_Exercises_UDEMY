{
 "cells": [
  {
   "cell_type": "markdown",
   "id": "bbd082e7",
   "metadata": {},
   "source": [
    "SETS"
   ]
  },
  {
   "cell_type": "code",
   "execution_count": 1,
   "id": "891c54a2",
   "metadata": {},
   "outputs": [],
   "source": [
    "myset = set()"
   ]
  },
  {
   "cell_type": "code",
   "execution_count": 2,
   "id": "ddbafc8e",
   "metadata": {},
   "outputs": [
    {
     "data": {
      "text/plain": [
       "set()"
      ]
     },
     "execution_count": 2,
     "metadata": {},
     "output_type": "execute_result"
    }
   ],
   "source": [
    "myset"
   ]
  },
  {
   "cell_type": "code",
   "execution_count": 3,
   "id": "4b7e1df4",
   "metadata": {},
   "outputs": [],
   "source": [
    "myset.add('x')"
   ]
  },
  {
   "cell_type": "code",
   "execution_count": 4,
   "id": "117d6074",
   "metadata": {},
   "outputs": [
    {
     "data": {
      "text/plain": [
       "{'x'}"
      ]
     },
     "execution_count": 4,
     "metadata": {},
     "output_type": "execute_result"
    }
   ],
   "source": [
    "myset"
   ]
  },
  {
   "cell_type": "code",
   "execution_count": 5,
   "id": "5af0844c",
   "metadata": {},
   "outputs": [],
   "source": [
    "myset.add('y')"
   ]
  },
  {
   "cell_type": "code",
   "execution_count": 6,
   "id": "6bb9f28c",
   "metadata": {},
   "outputs": [
    {
     "data": {
      "text/plain": [
       "{'x', 'y'}"
      ]
     },
     "execution_count": 6,
     "metadata": {},
     "output_type": "execute_result"
    }
   ],
   "source": [
    "myset"
   ]
  },
  {
   "cell_type": "code",
   "execution_count": 7,
   "id": "e688751d",
   "metadata": {},
   "outputs": [],
   "source": [
    "myset.add('y')"
   ]
  },
  {
   "cell_type": "code",
   "execution_count": 8,
   "id": "2fb873af",
   "metadata": {},
   "outputs": [
    {
     "data": {
      "text/plain": [
       "{'x', 'y'}"
      ]
     },
     "execution_count": 8,
     "metadata": {},
     "output_type": "execute_result"
    }
   ],
   "source": [
    "myset"
   ]
  },
  {
   "cell_type": "code",
   "execution_count": 9,
   "id": "d7bd6b35",
   "metadata": {},
   "outputs": [],
   "source": [
    " myset.add('y')"
   ]
  },
  {
   "cell_type": "code",
   "execution_count": null,
   "id": "486a7dac",
   "metadata": {},
   "outputs": [],
   "source": []
  },
  {
   "cell_type": "code",
   "execution_count": null,
   "id": "e2d5fc25",
   "metadata": {},
   "outputs": [],
   "source": []
  },
  {
   "cell_type": "code",
   "execution_count": 10,
   "id": "cd8d6f14",
   "metadata": {},
   "outputs": [],
   "source": [
    "mylist = [1,1,1,2,2,3,3]"
   ]
  },
  {
   "cell_type": "code",
   "execution_count": 11,
   "id": "87afe215",
   "metadata": {},
   "outputs": [
    {
     "data": {
      "text/plain": [
       "{1, 2, 3}"
      ]
     },
     "execution_count": 11,
     "metadata": {},
     "output_type": "execute_result"
    }
   ],
   "source": [
    "set(mylist)"
   ]
  },
  {
   "cell_type": "code",
   "execution_count": null,
   "id": "b40b7cc4",
   "metadata": {},
   "outputs": [],
   "source": []
  },
  {
   "cell_type": "code",
   "execution_count": 14,
   "id": "dca05618",
   "metadata": {},
   "outputs": [],
   "source": [
    "mylist = ['monkey', 'see','monkey','do']"
   ]
  },
  {
   "cell_type": "code",
   "execution_count": 15,
   "id": "bd0ced31",
   "metadata": {},
   "outputs": [
    {
     "data": {
      "text/plain": [
       "{'do', 'monkey', 'see'}"
      ]
     },
     "execution_count": 15,
     "metadata": {},
     "output_type": "execute_result"
    }
   ],
   "source": [
    "set(mylist)"
   ]
  },
  {
   "cell_type": "code",
   "execution_count": null,
   "id": "4e6d17d9",
   "metadata": {},
   "outputs": [],
   "source": []
  }
 ],
 "metadata": {
  "kernelspec": {
   "display_name": "Python 3 (ipykernel)",
   "language": "python",
   "name": "python3"
  },
  "language_info": {
   "codemirror_mode": {
    "name": "ipython",
    "version": 3
   },
   "file_extension": ".py",
   "mimetype": "text/x-python",
   "name": "python",
   "nbconvert_exporter": "python",
   "pygments_lexer": "ipython3",
   "version": "3.11.5"
  }
 },
 "nbformat": 4,
 "nbformat_minor": 5
}
