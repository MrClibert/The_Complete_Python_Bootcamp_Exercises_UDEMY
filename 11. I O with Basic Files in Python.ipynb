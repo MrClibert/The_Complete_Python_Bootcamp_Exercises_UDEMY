{
 "cells": [
  {
   "cell_type": "markdown",
   "id": "cdb126f6",
   "metadata": {},
   "source": [
    "FILES"
   ]
  },
  {
   "cell_type": "code",
   "execution_count": 1,
   "id": "6ab710d7",
   "metadata": {},
   "outputs": [
    {
     "name": "stdout",
     "output_type": "stream",
     "text": [
      "Writing myfile.txt\n"
     ]
    }
   ],
   "source": [
    "%%writefile myfile.txt\n",
    "My name is Clibert and\n",
    "I was born in Gokwe, see\n",
    "The last line"
   ]
  },
  {
   "cell_type": "code",
   "execution_count": 3,
   "id": "ed5f83f3",
   "metadata": {},
   "outputs": [],
   "source": [
    "myfile = open('myfile.txt')"
   ]
  },
  {
   "cell_type": "code",
   "execution_count": null,
   "id": "0a08fccd",
   "metadata": {},
   "outputs": [],
   "source": []
  },
  {
   "cell_type": "code",
   "execution_count": 5,
   "id": "ed1274e7",
   "metadata": {},
   "outputs": [
    {
     "data": {
      "text/plain": [
       "'C:\\\\Users\\\\ADMIN'"
      ]
     },
     "execution_count": 5,
     "metadata": {},
     "output_type": "execute_result"
    }
   ],
   "source": [
    "pwd"
   ]
  },
  {
   "cell_type": "code",
   "execution_count": 6,
   "id": "70681ac7",
   "metadata": {},
   "outputs": [
    {
     "data": {
      "text/plain": [
       "'My name is Clibert and\\nI was born in Gokwe, see\\nThe last line\\n'"
      ]
     },
     "execution_count": 6,
     "metadata": {},
     "output_type": "execute_result"
    }
   ],
   "source": [
    "myfile.read()"
   ]
  },
  {
   "cell_type": "code",
   "execution_count": null,
   "id": "d5618d20",
   "metadata": {},
   "outputs": [],
   "source": []
  },
  {
   "cell_type": "code",
   "execution_count": 9,
   "id": "9fc7c8c0",
   "metadata": {},
   "outputs": [
    {
     "data": {
      "text/plain": [
       "''"
      ]
     },
     "execution_count": 9,
     "metadata": {},
     "output_type": "execute_result"
    }
   ],
   "source": [
    "myfile.read()"
   ]
  },
  {
   "cell_type": "code",
   "execution_count": 10,
   "id": "de81c944",
   "metadata": {},
   "outputs": [
    {
     "data": {
      "text/plain": [
       "0"
      ]
     },
     "execution_count": 10,
     "metadata": {},
     "output_type": "execute_result"
    }
   ],
   "source": [
    "myfile.seek(0)"
   ]
  },
  {
   "cell_type": "code",
   "execution_count": 11,
   "id": "930d987b",
   "metadata": {},
   "outputs": [
    {
     "data": {
      "text/plain": [
       "'My name is Clibert and\\nI was born in Gokwe, see\\nThe last line\\n'"
      ]
     },
     "execution_count": 11,
     "metadata": {},
     "output_type": "execute_result"
    }
   ],
   "source": [
    "myfile.read()"
   ]
  },
  {
   "cell_type": "code",
   "execution_count": 12,
   "id": "957b2eaa",
   "metadata": {},
   "outputs": [
    {
     "data": {
      "text/plain": [
       "''"
      ]
     },
     "execution_count": 12,
     "metadata": {},
     "output_type": "execute_result"
    }
   ],
   "source": [
    "myfile.read()"
   ]
  },
  {
   "cell_type": "code",
   "execution_count": 13,
   "id": "d79ed92c",
   "metadata": {},
   "outputs": [
    {
     "data": {
      "text/plain": [
       "0"
      ]
     },
     "execution_count": 13,
     "metadata": {},
     "output_type": "execute_result"
    }
   ],
   "source": [
    "myfile.seek(0)"
   ]
  },
  {
   "cell_type": "code",
   "execution_count": 14,
   "id": "d18eb466",
   "metadata": {},
   "outputs": [],
   "source": [
    "Contents = myfile.read()"
   ]
  },
  {
   "cell_type": "code",
   "execution_count": 15,
   "id": "b371bb1f",
   "metadata": {},
   "outputs": [
    {
     "data": {
      "text/plain": [
       "'MY NAME IS CLIBERT AND\\nI WAS BORN IN GOKWE, SEE\\nTHE LAST LINE\\n'"
      ]
     },
     "execution_count": 15,
     "metadata": {},
     "output_type": "execute_result"
    }
   ],
   "source": [
    "Contents.upper()"
   ]
  },
  {
   "cell_type": "code",
   "execution_count": 16,
   "id": "463a9802",
   "metadata": {},
   "outputs": [
    {
     "data": {
      "text/plain": [
       "'My name is Clibert and\\nI was born in Gokwe, see\\nThe last line\\n'"
      ]
     },
     "execution_count": 16,
     "metadata": {},
     "output_type": "execute_result"
    }
   ],
   "source": [
    "Contents"
   ]
  },
  {
   "cell_type": "code",
   "execution_count": 19,
   "id": "5caa621e",
   "metadata": {},
   "outputs": [
    {
     "data": {
      "text/plain": [
       "0"
      ]
     },
     "execution_count": 19,
     "metadata": {},
     "output_type": "execute_result"
    }
   ],
   "source": [
    "myfile.seek(0)"
   ]
  },
  {
   "cell_type": "code",
   "execution_count": 20,
   "id": "ae8dd504",
   "metadata": {},
   "outputs": [
    {
     "data": {
      "text/plain": [
       "['My name is Clibert and\\n', 'I was born in Gokwe, see\\n', 'The last line\\n']"
      ]
     },
     "execution_count": 20,
     "metadata": {},
     "output_type": "execute_result"
    }
   ],
   "source": [
    "myfile.readlines()"
   ]
  },
  {
   "cell_type": "code",
   "execution_count": null,
   "id": "8e91f3d7",
   "metadata": {},
   "outputs": [],
   "source": []
  },
  {
   "cell_type": "code",
   "execution_count": null,
   "id": "5c558c50",
   "metadata": {},
   "outputs": [],
   "source": []
  },
  {
   "cell_type": "markdown",
   "id": "9dd6b858",
   "metadata": {},
   "source": [
    "OPENNING FILES FROM LOCATION"
   ]
  },
  {
   "cell_type": "markdown",
   "id": "7731e72b",
   "metadata": {},
   "source": [
    "myfile = open(\"C:\\\\Users\\\\.....\") add the address"
   ]
  },
  {
   "cell_type": "markdown",
   "id": "6dadfb60",
   "metadata": {},
   "source": [
    "To close the file:  myfile.close()"
   ]
  },
  {
   "cell_type": "markdown",
   "id": "6a50d8dd",
   "metadata": {},
   "source": [
    "Can also say: with open('myfile.txt') as bla-bla:\n",
    "    contents = bla-bla.read()"
   ]
  },
  {
   "cell_type": "code",
   "execution_count": 21,
   "id": "2fdeeab6",
   "metadata": {},
   "outputs": [],
   "source": [
    "with open('myfile.txt') as new_myfile:\n",
    "    contents = new_myfile.read()"
   ]
  },
  {
   "cell_type": "code",
   "execution_count": 22,
   "id": "12cf7e41",
   "metadata": {},
   "outputs": [
    {
     "data": {
      "text/plain": [
       "'My name is Clibert and\\nI was born in Gokwe, see\\nThe last line\\n'"
      ]
     },
     "execution_count": 22,
     "metadata": {},
     "output_type": "execute_result"
    }
   ],
   "source": [
    "contents"
   ]
  },
  {
   "cell_type": "code",
   "execution_count": null,
   "id": "99a6e781",
   "metadata": {},
   "outputs": [],
   "source": []
  },
  {
   "cell_type": "markdown",
   "id": "493181a5",
   "metadata": {},
   "source": [
    "To override/edit the file.\n",
    "with open('myfile.txt',mode = 'r')"
   ]
  },
  {
   "cell_type": "markdown",
   "id": "2958b56c",
   "metadata": {},
   "source": [
    "to chose mode, press Shift+Tab\n",
    "r = read only\n",
    "w = write only\n",
    "a = append only\n",
    "r+ = read and write\n",
    "w+ = write and read"
   ]
  },
  {
   "cell_type": "code",
   "execution_count": 33,
   "id": "edb99dbb",
   "metadata": {},
   "outputs": [
    {
     "name": "stdout",
     "output_type": "stream",
     "text": [
      "Overwriting new_file.txt\n"
     ]
    }
   ],
   "source": [
    "%%writefile new_file.txt\n",
    "Clibert Mukasvanga\n",
    "loves\n",
    "Vongai Muza\n"
   ]
  },
  {
   "cell_type": "code",
   "execution_count": 39,
   "id": "4d800ef7",
   "metadata": {
    "scrolled": true
   },
   "outputs": [
    {
     "name": "stdout",
     "output_type": "stream",
     "text": [
      "Clibert Mukasvanga\n",
      "loves\n",
      "Vongai Muza\n",
      "\n"
     ]
    }
   ],
   "source": [
    "with open('new_file.txt', mode = 'r') as f:\n",
    "    print(f.read())"
   ]
  },
  {
   "cell_type": "code",
   "execution_count": null,
   "id": "8bca9efe",
   "metadata": {},
   "outputs": [],
   "source": []
  },
  {
   "cell_type": "code",
   "execution_count": 40,
   "id": "b328ae72",
   "metadata": {},
   "outputs": [],
   "source": [
    "with open('new_file.txt', mode = 'a') as f:\n",
    "    f.write('Since 24_08_12')"
   ]
  },
  {
   "cell_type": "code",
   "execution_count": 42,
   "id": "a5c89e14",
   "metadata": {},
   "outputs": [
    {
     "name": "stdout",
     "output_type": "stream",
     "text": [
      "Clibert Mukasvanga\n",
      "loves\n",
      "Vongai Muza\n",
      "Since 24_08_12\n"
     ]
    }
   ],
   "source": [
    "with open('new_file.txt', mode = 'r') as f:\n",
    "    print(f.read())"
   ]
  },
  {
   "cell_type": "code",
   "execution_count": null,
   "id": "0aea995f",
   "metadata": {},
   "outputs": [],
   "source": []
  },
  {
   "cell_type": "code",
   "execution_count": 43,
   "id": "e580d1e6",
   "metadata": {},
   "outputs": [],
   "source": [
    "with open('abcde.txt',mode = 'w') as f:\n",
    "    f.write('I created this file')"
   ]
  },
  {
   "cell_type": "code",
   "execution_count": 44,
   "id": "bce3d81a",
   "metadata": {},
   "outputs": [
    {
     "name": "stdout",
     "output_type": "stream",
     "text": [
      "I created this file\n"
     ]
    }
   ],
   "source": [
    "with open('abcde.txt', mode = 'r') as f:\n",
    "    print(f.read())"
   ]
  },
  {
   "cell_type": "code",
   "execution_count": null,
   "id": "ae900f93",
   "metadata": {},
   "outputs": [],
   "source": []
  },
  {
   "cell_type": "code",
   "execution_count": null,
   "id": "8814b35f",
   "metadata": {},
   "outputs": [],
   "source": []
  },
  {
   "cell_type": "code",
   "execution_count": 46,
   "id": "50ed5612",
   "metadata": {},
   "outputs": [
    {
     "name": "stdout",
     "output_type": "stream",
     "text": [
      "Writing Practice_links.txt\n"
     ]
    }
   ],
   "source": [
    "%%writefile Practice_links.txt\n",
    "\n",
    "Some link below\n",
    "\n",
    "http://codingbat.com/python\n",
    "\n",
    "http://www.codeabbey.com/index/task_lis\n",
    "\n",
    "https://www.reddit.com/r/dailyprogrammer\n",
    "\n",
    "http://www.pythonchallenge.com/"
   ]
  },
  {
   "cell_type": "code",
   "execution_count": null,
   "id": "afde456f",
   "metadata": {},
   "outputs": [],
   "source": []
  }
 ],
 "metadata": {
  "kernelspec": {
   "display_name": "Python 3 (ipykernel)",
   "language": "python",
   "name": "python3"
  },
  "language_info": {
   "codemirror_mode": {
    "name": "ipython",
    "version": 3
   },
   "file_extension": ".py",
   "mimetype": "text/x-python",
   "name": "python",
   "nbconvert_exporter": "python",
   "pygments_lexer": "ipython3",
   "version": "3.11.5"
  }
 },
 "nbformat": 4,
 "nbformat_minor": 5
}
