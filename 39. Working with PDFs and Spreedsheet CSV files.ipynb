{
 "cells": [
  {
   "cell_type": "markdown",
   "metadata": {},
   "source": [
    "CSV - Comma Separated Variables\n",
    "Example:\n",
    "Name,  Hours,  Rate\n",
    "David,  20,    15\n",
    "Claire, 50,   20\n",
    "\n",
    "While it is possible to export excel files, and Google Spreadsheets to .csv files, it only exports the information\n",
    "This like formulars, images, and macros can not be within a .csv file.\n",
    "Simply put, a .csv file only contains the raw data from the spreadsheet.\n",
    "\n",
    "Pandas:\n",
    "      Full data analysis library, can work almost any tabular data types\n",
    "      Runs visualizations and alalysis\n",
    "      \n",
    "Openpyxl:\n",
    "      Designed specificaly for Excel files.\n",
    "      Retains a lot of Excel specific functionality\n",
    "      Supports Excel formulas\n",
    "      Python-excel.org tracks various other Excel Python libraries\n",
    "\n",
    "Google Sheets Python API:\n",
    "      Direct Python Interface for working with Google Spreadsheets\n",
    "      Allows making direct changes to the spreadsheets hosted online\n",
    "      More comlplex synthax, but available in many programming languages"
   ]
  },
  {
   "cell_type": "code",
   "execution_count": 1,
   "metadata": {},
   "outputs": [
    {
     "data": {
      "text/plain": [
       "'C:\\\\Users\\\\clibertm'"
      ]
     },
     "execution_count": 1,
     "metadata": {},
     "output_type": "execute_result"
    }
   ],
   "source": [
    "pwd"
   ]
  },
  {
   "cell_type": "code",
   "execution_count": 5,
   "metadata": {},
   "outputs": [],
   "source": [
    "import csv"
   ]
  },
  {
   "cell_type": "code",
   "execution_count": 13,
   "metadata": {},
   "outputs": [],
   "source": [
    "#Open the file\n",
    "data = open('C:\\\\Users\\\\clibertm\\\\Documents\\\\2. CODING\\\\1. PYTHON LEARNING\\\\1. Lessons\\\\2. Udemy_The complete Python Bootcamp\\\\Fines.csv', encoding = 'utf-8')\n",
    "\n"
   ]
  },
  {
   "cell_type": "code",
   "execution_count": 14,
   "metadata": {},
   "outputs": [],
   "source": [
    "#csv.reader\n",
    "csv_data = csv.reader(data)\n"
   ]
  },
  {
   "cell_type": "code",
   "execution_count": 15,
   "metadata": {},
   "outputs": [],
   "source": [
    "#reformat it into a python object list of lists\n",
    "data_lines = list(csv_data)"
   ]
  },
  {
   "cell_type": "code",
   "execution_count": 18,
   "metadata": {},
   "outputs": [
    {
     "data": {
      "text/plain": [
       "[['Id Number',\n",
       "  'Infringement Number',\n",
       "  'Infringement Date',\n",
       "  'Issuing Authority Code',\n",
       "  'Issuing Authority',\n",
       "  'Vehicle Registration',\n",
       "  'Status',\n",
       "  'Amount',\n",
       "  'Demerit Points'],\n",
       " ['8905286158185',\n",
       "  'HU/80/624666/630',\n",
       "  '2024/12/27',\n",
       "  'KOUGA',\n",
       "  'HUMANSDORP',\n",
       "  'KLS381EC',\n",
       "  'Notice',\n",
       "  '1000',\n",
       "  'N/A'],\n",
       " ['8905286158185',\n",
       "  'P/80/2038611/660',\n",
       "  '2024/12/29',\n",
       "  'BITOU',\n",
       "  'PLETTENBERG BAY',\n",
       "  'KLS381EC',\n",
       "  'Notice',\n",
       "  '400',\n",
       "  'N/A'],\n",
       " ['8905286158185',\n",
       "  'SW/80/708150/674',\n",
       "  '2024/12/01',\n",
       "  'SWLDM',\n",
       "  'SWELLENDAM',\n",
       "  'KLS381EC',\n",
       "  'Notice',\n",
       "  '400',\n",
       "  'N/A'],\n",
       " ['8905286158185',\n",
       "  'SW/80/722336/674',\n",
       "  '2024/12/27',\n",
       "  'SWLDM',\n",
       "  'SWELLENDAM',\n",
       "  'KLS381EC',\n",
       "  'Notice',\n",
       "  '800',\n",
       "  'N/A'],\n",
       " ['8905286158185',\n",
       "  'HE/80/020220/667',\n",
       "  '2024/12/29',\n",
       "  'HESQA',\n",
       "  'RIVERSDALE',\n",
       "  'KLS381EC',\n",
       "  'Notice',\n",
       "  '200',\n",
       "  'N/A']]"
      ]
     },
     "execution_count": 18,
     "metadata": {},
     "output_type": "execute_result"
    }
   ],
   "source": [
    "data_lines"
   ]
  },
  {
   "cell_type": "code",
   "execution_count": 19,
   "metadata": {},
   "outputs": [
    {
     "data": {
      "text/plain": [
       "['Id Number',\n",
       " 'Infringement Number',\n",
       " 'Infringement Date',\n",
       " 'Issuing Authority Code',\n",
       " 'Issuing Authority',\n",
       " 'Vehicle Registration',\n",
       " 'Status',\n",
       " 'Amount',\n",
       " 'Demerit Points']"
      ]
     },
     "execution_count": 19,
     "metadata": {},
     "output_type": "execute_result"
    }
   ],
   "source": [
    "data_lines[0]"
   ]
  },
  {
   "cell_type": "code",
   "execution_count": 20,
   "metadata": {},
   "outputs": [
    {
     "name": "stdout",
     "output_type": "stream",
     "text": [
      "['Id Number', 'Infringement Number', 'Infringement Date', 'Issuing Authority Code', 'Issuing Authority', 'Vehicle Registration', 'Status', 'Amount', 'Demerit Points']\n",
      "['8905286158185', 'HU/80/624666/630', '2024/12/27', 'KOUGA', 'HUMANSDORP', 'KLS381EC', 'Notice', '1000', 'N/A']\n",
      "['8905286158185', 'P/80/2038611/660', '2024/12/29', 'BITOU', 'PLETTENBERG BAY', 'KLS381EC', 'Notice', '400', 'N/A']\n",
      "['8905286158185', 'SW/80/708150/674', '2024/12/01', 'SWLDM', 'SWELLENDAM', 'KLS381EC', 'Notice', '400', 'N/A']\n",
      "['8905286158185', 'SW/80/722336/674', '2024/12/27', 'SWLDM', 'SWELLENDAM', 'KLS381EC', 'Notice', '800', 'N/A']\n"
     ]
    }
   ],
   "source": [
    "for line in data_lines[:5]:          #listing by row\n",
    "    print(line)"
   ]
  },
  {
   "cell_type": "code",
   "execution_count": 21,
   "metadata": {},
   "outputs": [
    {
     "data": {
      "text/plain": [
       "['8905286158185',\n",
       " 'P/80/2038611/660',\n",
       " '2024/12/29',\n",
       " 'BITOU',\n",
       " 'PLETTENBERG BAY',\n",
       " 'KLS381EC',\n",
       " 'Notice',\n",
       " '400',\n",
       " 'N/A']"
      ]
     },
     "execution_count": 21,
     "metadata": {},
     "output_type": "execute_result"
    }
   ],
   "source": [
    "data_lines[2]             #extracting a row"
   ]
  },
  {
   "cell_type": "code",
   "execution_count": 22,
   "metadata": {},
   "outputs": [
    {
     "data": {
      "text/plain": [
       "'PLETTENBERG BAY'"
      ]
     },
     "execution_count": 22,
     "metadata": {},
     "output_type": "execute_result"
    }
   ],
   "source": [
    "data_lines[2][4]        #extract specific thing"
   ]
  },
  {
   "cell_type": "code",
   "execution_count": 23,
   "metadata": {},
   "outputs": [],
   "source": [
    "all_places = []"
   ]
  },
  {
   "cell_type": "code",
   "execution_count": 24,
   "metadata": {},
   "outputs": [],
   "source": [
    "for i in data_lines[1:4]:       #extraing speific data\n",
    "    all_places.append(i[4])"
   ]
  },
  {
   "cell_type": "code",
   "execution_count": 25,
   "metadata": {},
   "outputs": [
    {
     "data": {
      "text/plain": [
       "['HUMANSDORP', 'PLETTENBERG BAY', 'SWELLENDAM']"
      ]
     },
     "execution_count": 25,
     "metadata": {},
     "output_type": "execute_result"
    }
   ],
   "source": [
    "all_places"
   ]
  },
  {
   "cell_type": "code",
   "execution_count": null,
   "metadata": {},
   "outputs": [],
   "source": []
  },
  {
   "cell_type": "code",
   "execution_count": 27,
   "metadata": {},
   "outputs": [],
   "source": [
    "district_n_place = []"
   ]
  },
  {
   "cell_type": "code",
   "execution_count": 28,
   "metadata": {},
   "outputs": [],
   "source": [
    "for i in data_lines[1:]:       #grabbing and concatenating\n",
    "    district_n_place.append(i[3]+ ' '+ i[4])"
   ]
  },
  {
   "cell_type": "code",
   "execution_count": 29,
   "metadata": {},
   "outputs": [
    {
     "data": {
      "text/plain": [
       "['KOUGA HUMANSDORP',\n",
       " 'BITOU PLETTENBERG BAY',\n",
       " 'SWLDM SWELLENDAM',\n",
       " 'SWLDM SWELLENDAM',\n",
       " 'HESQA RIVERSDALE']"
      ]
     },
     "execution_count": 29,
     "metadata": {},
     "output_type": "execute_result"
    }
   ],
   "source": [
    "district_n_place"
   ]
  },
  {
   "cell_type": "code",
   "execution_count": null,
   "metadata": {},
   "outputs": [],
   "source": []
  },
  {
   "cell_type": "code",
   "execution_count": 30,
   "metadata": {},
   "outputs": [],
   "source": [
    "file_to_output = open('to_save_file.csv', mode = 'w', newline = '')     #to create and open csv file"
   ]
  },
  {
   "cell_type": "code",
   "execution_count": 33,
   "metadata": {},
   "outputs": [],
   "source": [
    "csv_writer = csv.writer(file_to_output, delimiter = ',')"
   ]
  },
  {
   "cell_type": "code",
   "execution_count": 36,
   "metadata": {},
   "outputs": [
    {
     "data": {
      "text/plain": [
       "7"
      ]
     },
     "execution_count": 36,
     "metadata": {},
     "output_type": "execute_result"
    }
   ],
   "source": [
    "csv_writer.writerow(['a', 'b', 'c'])"
   ]
  },
  {
   "cell_type": "code",
   "execution_count": 37,
   "metadata": {},
   "outputs": [],
   "source": [
    "file_to_output.close()         #close the file"
   ]
  },
  {
   "cell_type": "code",
   "execution_count": null,
   "metadata": {},
   "outputs": [],
   "source": []
  },
  {
   "cell_type": "code",
   "execution_count": 42,
   "metadata": {},
   "outputs": [],
   "source": [
    "f = open('to_save_file.csv', mode = 'a', newline = '')"
   ]
  },
  {
   "cell_type": "code",
   "execution_count": 45,
   "metadata": {},
   "outputs": [],
   "source": [
    "csv_writer = csv.writer(f)         #to write new objects to the file"
   ]
  },
  {
   "cell_type": "code",
   "execution_count": 46,
   "metadata": {},
   "outputs": [
    {
     "data": {
      "text/plain": [
       "7"
      ]
     },
     "execution_count": 46,
     "metadata": {},
     "output_type": "execute_result"
    }
   ],
   "source": [
    "csv_writer.writerow(['1', '2', '3'])      #output shows how many objects written"
   ]
  },
  {
   "cell_type": "code",
   "execution_count": 47,
   "metadata": {},
   "outputs": [],
   "source": [
    "f.close()      #close again"
   ]
  },
  {
   "cell_type": "code",
   "execution_count": null,
   "metadata": {},
   "outputs": [],
   "source": []
  }
 ],
 "metadata": {
  "kernelspec": {
   "display_name": "Python 3",
   "language": "python",
   "name": "python3"
  },
  "language_info": {
   "codemirror_mode": {
    "name": "ipython",
    "version": 3
   },
   "file_extension": ".py",
   "mimetype": "text/x-python",
   "name": "python",
   "nbconvert_exporter": "python",
   "pygments_lexer": "ipython3",
   "version": "3.8.5"
  }
 },
 "nbformat": 4,
 "nbformat_minor": 4
}
