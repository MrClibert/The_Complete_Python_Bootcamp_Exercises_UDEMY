{
 "cells": [
  {
   "cell_type": "markdown",
   "metadata": {},
   "source": [
    "#As one gets into larger multi-file projects it becomes important to have tests in place. SO that as you make changes or updates to your code you can run your test files to make sure previous code runs as expected.\n",
    "\n",
    "TWO TESTING TOOLS\n",
    "\n",
    "PYLINT: this is a library that looks at your code and reports back possible issues.\n",
    "\n",
    "UNITTEST: this built-in library will allow to test your own programs and check you are getting desired outputs."
   ]
  },
  {
   "cell_type": "markdown",
   "metadata": {},
   "source": [
    "Download pylint (type in command line: \"pip install pylint\"\n",
    "\n",
    "then once downloaded, while still in command line, type  \"pylint fileName\", to get a report of any errors in a saved file under \"fileName\"\n",
    "You can fix found errors, and run again to get new check"
   ]
  }
 ],
 "metadata": {
  "kernelspec": {
   "display_name": "Python 3",
   "language": "python",
   "name": "python3"
  },
  "language_info": {
   "codemirror_mode": {
    "name": "ipython",
    "version": 3
   },
   "file_extension": ".py",
   "mimetype": "text/x-python",
   "name": "python",
   "nbconvert_exporter": "python",
   "pygments_lexer": "ipython3",
   "version": "3.8.5"
  }
 },
 "nbformat": 4,
 "nbformat_minor": 4
}
