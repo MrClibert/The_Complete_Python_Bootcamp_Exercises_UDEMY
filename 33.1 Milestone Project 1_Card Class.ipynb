{
 "cells": [
  {
   "cell_type": "markdown",
   "metadata": {},
   "source": [
    "Milestone Project: Card Class"
   ]
  },
  {
   "cell_type": "markdown",
   "metadata": {},
   "source": [
    " GAME: Start with two card decks, deiving up cards between two players,then to play, each will put a card on table, the card with high ranking wins, the winner then takes both played cards into their deck, then repeat. The player with no cards at the end, loses.If a draw is drawn, another play is made, until clear winner, then the winner takes all the played card, even the tie ones.\n",
    " \n",
    " \n",
    " \n",
    "Deck Class:\n",
    "initiate a new deck, create all 52 Card objects | \n",
    "Hold as a list of Card objects | \n",
    "Shuffle a Deck through a method call\n",
    "Random library shuffle() function | \n",
    "Deal cards from the Deck objects | \n",
    "Pop method from card list\n",
    "\n",
    "\n",
    "Player Class:\n",
    "This class is used to hold a player's current list of cards |\n",
    "A player should be able to add or remove cards from their hand (list of Card objects)|\n",
    "Then will need to translate a Deck/Hand of cards ith a top and bottom, to a Python list |\n",
    "Player Class will have a self.all_cards list cards = [\"A\", \"B\", \"C\"], then we use card.pop(0) to indicate a play, in    this case, willbe left with[\"B\", \"C\"], adding a card to bottom of deck, we use card.append(\"W\"), now we have [\"A\", \"B\", \"W\"], to merge a current player deck, with a new addition of cards, use cards.extend(new) if new = [\"X\", \"Z\"], now we have cards = [\"B\", \"C\", \"X\", \"Z\"], using cards.append(new) would create [\"B\", \"C\", [\"X\", \"Z\"]]-nested list"
   ]
  },
  {
   "cell_type": "code",
   "execution_count": 1,
   "metadata": {},
   "outputs": [],
   "source": [
    "import random\n",
    "suits = ('Hearts', 'Diamonds', 'Spades', 'Clubs')\n",
    "ranks= ('Two', 'Three', 'Four', 'Five', 'Six', 'Seven', 'Eight', 'Nine', 'Ten', 'Jack', 'Queen', 'King', 'Ace')\n",
    "#Deck\n",
    "#Player\n",
    "values = {\"Two\":2, \"Three\":3, \"Four\":4, \"Five\":5, \"Six\":6, \"Seven\":7, \"Eight\":8, \"Nine\":9, \"Ten\":10, \n",
    "          \"Jack\":11, \"Queen\":12, \"King\":13, \"Ace\":14}"
   ]
  },
  {
   "cell_type": "code",
   "execution_count": 2,
   "metadata": {},
   "outputs": [],
   "source": [
    "class Card:\n",
    "    def __init__(self, suit, rank):\n",
    "        self.suit = suit\n",
    "        self.rank = rank\n",
    "        self.value = values[rank]\n",
    "        \n",
    "    def __str__(self):\n",
    "        return self.rank + \" of \" + self.suit"
   ]
  },
  {
   "cell_type": "code",
   "execution_count": null,
   "metadata": {},
   "outputs": [],
   "source": []
  },
  {
   "cell_type": "code",
   "execution_count": 3,
   "metadata": {},
   "outputs": [],
   "source": [
    "three_of_clubs = Card(\"Clubs\", 'Three')"
   ]
  },
  {
   "cell_type": "code",
   "execution_count": 6,
   "metadata": {},
   "outputs": [
    {
     "data": {
      "text/plain": [
       "'Three'"
      ]
     },
     "execution_count": 6,
     "metadata": {},
     "output_type": "execute_result"
    }
   ],
   "source": [
    "three_of_clubs.rank"
   ]
  },
  {
   "cell_type": "code",
   "execution_count": null,
   "metadata": {},
   "outputs": [],
   "source": []
  },
  {
   "cell_type": "code",
   "execution_count": 4,
   "metadata": {},
   "outputs": [],
   "source": [
    "two_hearts = Card(\"Hearts\", \"Two\")"
   ]
  },
  {
   "cell_type": "code",
   "execution_count": 8,
   "metadata": {},
   "outputs": [
    {
     "data": {
      "text/plain": [
       "<__main__.Card at 0x213978053a0>"
      ]
     },
     "execution_count": 8,
     "metadata": {},
     "output_type": "execute_result"
    }
   ],
   "source": [
    "two_hearts"
   ]
  },
  {
   "cell_type": "code",
   "execution_count": 9,
   "metadata": {},
   "outputs": [
    {
     "name": "stdout",
     "output_type": "stream",
     "text": [
      "Two of Hearts\n"
     ]
    }
   ],
   "source": [
    "print(two_hearts)"
   ]
  },
  {
   "cell_type": "code",
   "execution_count": 10,
   "metadata": {},
   "outputs": [
    {
     "data": {
      "text/plain": [
       "'Hearts'"
      ]
     },
     "execution_count": 10,
     "metadata": {},
     "output_type": "execute_result"
    }
   ],
   "source": [
    "two_hearts.suit"
   ]
  },
  {
   "cell_type": "code",
   "execution_count": 11,
   "metadata": {},
   "outputs": [
    {
     "data": {
      "text/plain": [
       "'Two'"
      ]
     },
     "execution_count": 11,
     "metadata": {},
     "output_type": "execute_result"
    }
   ],
   "source": [
    "two_hearts.rank"
   ]
  },
  {
   "cell_type": "code",
   "execution_count": null,
   "metadata": {},
   "outputs": [],
   "source": []
  },
  {
   "cell_type": "code",
   "execution_count": 12,
   "metadata": {},
   "outputs": [
    {
     "data": {
      "text/plain": [
       "2"
      ]
     },
     "execution_count": 12,
     "metadata": {},
     "output_type": "execute_result"
    }
   ],
   "source": [
    "values[two_hearts.rank]"
   ]
  },
  {
   "cell_type": "code",
   "execution_count": 13,
   "metadata": {},
   "outputs": [
    {
     "data": {
      "text/plain": [
       "True"
      ]
     },
     "execution_count": 13,
     "metadata": {},
     "output_type": "execute_result"
    }
   ],
   "source": [
    "two_hearts.value < three_of_clubs.value                     #checking functionality"
   ]
  },
  {
   "cell_type": "code",
   "execution_count": null,
   "metadata": {},
   "outputs": [],
   "source": []
  },
  {
   "cell_type": "code",
   "execution_count": 5,
   "metadata": {},
   "outputs": [],
   "source": [
    "class Deck:\n",
    "    \n",
    "    def __init__(self):       #Note this only happens once upon creation of a new Deck\n",
    "        \n",
    "        self.all_cards = []\n",
    "        \n",
    "        for suit in suits:\n",
    "            for rank in ranks:\n",
    "                #create a Card Object (assumes Card class has already been defined)\n",
    "                created_card = Card(suit,rank)     #creats new deck\n",
    "                \n",
    "                self.all_cards.append(Card(suit, rank))\n",
    "             \n",
    "    def shuffle(self):            #shuffling the cards\n",
    "        random.shuffle(self.all_cards)\n",
    "        \n",
    "    def deal_one(self):\n",
    "        return self.all_cards.pop()       #allows for removal of cards as needed"
   ]
  },
  {
   "cell_type": "code",
   "execution_count": 6,
   "metadata": {},
   "outputs": [],
   "source": [
    "new_deck = Deck()"
   ]
  },
  {
   "cell_type": "code",
   "execution_count": 7,
   "metadata": {},
   "outputs": [],
   "source": [
    "new_deck.all_cards    # lists all the card options, stored in value (remove pass to see)\n",
    "\n",
    "pass "
   ]
  },
  {
   "cell_type": "code",
   "execution_count": 8,
   "metadata": {},
   "outputs": [],
   "source": [
    "first_card = new_deck.all_cards[0]"
   ]
  },
  {
   "cell_type": "code",
   "execution_count": 26,
   "metadata": {},
   "outputs": [
    {
     "name": "stdout",
     "output_type": "stream",
     "text": [
      "Two of Hearts\n"
     ]
    }
   ],
   "source": [
    "print(first_card)"
   ]
  },
  {
   "cell_type": "code",
   "execution_count": 14,
   "metadata": {},
   "outputs": [],
   "source": [
    "bottom_card = new_deck.all_cards[-1]   #last card"
   ]
  },
  {
   "cell_type": "code",
   "execution_count": 33,
   "metadata": {},
   "outputs": [
    {
     "name": "stdout",
     "output_type": "stream",
     "text": [
      "Ace of Clubs\n"
     ]
    }
   ],
   "source": [
    "print(bottom_card)"
   ]
  },
  {
   "cell_type": "code",
   "execution_count": 50,
   "metadata": {},
   "outputs": [
    {
     "ename": "SyntaxError",
     "evalue": "invalid syntax (<ipython-input-50-2d3958a11fd5>, line 1)",
     "output_type": "error",
     "traceback": [
      "\u001b[1;36m  File \u001b[1;32m\"<ipython-input-50-2d3958a11fd5>\"\u001b[1;36m, line \u001b[1;32m1\u001b[0m\n\u001b[1;33m    pass for card_object in new_deck.all_cards:    # prints all 52\u001b[0m\n\u001b[1;37m         ^\u001b[0m\n\u001b[1;31mSyntaxError\u001b[0m\u001b[1;31m:\u001b[0m invalid syntax\n"
     ]
    }
   ],
   "source": [
    "\n",
    "pass for card_object in new_deck.all_cards:    # prints all 52 (remove pass)\n",
    "    print(card_object)\n",
    "    "
   ]
  },
  {
   "cell_type": "code",
   "execution_count": null,
   "metadata": {},
   "outputs": [],
   "source": []
  },
  {
   "cell_type": "code",
   "execution_count": 9,
   "metadata": {},
   "outputs": [],
   "source": [
    "new_deck.shuffle()   #calling the shiffle function"
   ]
  },
  {
   "cell_type": "code",
   "execution_count": 10,
   "metadata": {},
   "outputs": [
    {
     "name": "stdout",
     "output_type": "stream",
     "text": [
      "Six of Clubs\n"
     ]
    }
   ],
   "source": [
    "print(new_deck.all_cards[0])             #now gives shuffles responds"
   ]
  },
  {
   "cell_type": "code",
   "execution_count": 15,
   "metadata": {},
   "outputs": [
    {
     "name": "stdout",
     "output_type": "stream",
     "text": [
      "Ace of Clubs\n"
     ]
    }
   ],
   "source": [
    "print(new_deck.all_cards[-1])"
   ]
  },
  {
   "cell_type": "code",
   "execution_count": null,
   "metadata": {},
   "outputs": [],
   "source": []
  },
  {
   "cell_type": "code",
   "execution_count": 11,
   "metadata": {},
   "outputs": [],
   "source": [
    "mycard = new_deck.deal_one()         #pops one card from deck, above def)"
   ]
  },
  {
   "cell_type": "code",
   "execution_count": 56,
   "metadata": {},
   "outputs": [
    {
     "name": "stdout",
     "output_type": "stream",
     "text": [
      "Ace of Clubs\n"
     ]
    }
   ],
   "source": [
    "print(mycard)"
   ]
  },
  {
   "cell_type": "code",
   "execution_count": 12,
   "metadata": {},
   "outputs": [
    {
     "data": {
      "text/plain": [
       "51"
      ]
     },
     "execution_count": 12,
     "metadata": {},
     "output_type": "execute_result"
    }
   ],
   "source": [
    "len(new_deck.all_cards)     #check new length, after poping"
   ]
  },
  {
   "cell_type": "code",
   "execution_count": null,
   "metadata": {},
   "outputs": [],
   "source": []
  },
  {
   "cell_type": "code",
   "execution_count": null,
   "metadata": {},
   "outputs": [],
   "source": []
  },
  {
   "cell_type": "code",
   "execution_count": 13,
   "metadata": {},
   "outputs": [],
   "source": [
    "class Player:\n",
    "    def __init__(self, name):\n",
    "        \n",
    "        self.name = name                 #a new player has no cards\n",
    "        self.all_cards = [ ]\n",
    "        \n",
    "    def remove_one(self):\n",
    "        return self.all_cards.pop(0)\n",
    "    \n",
    "    def add_cards(self, new_cards):\n",
    "        if type(new_cards) == type([]):      #list for multiple Card Objects\n",
    "            self.all_cards.extend(new_cards)   \n",
    "        else:\n",
    "            self.all_cards.append(new_cards)   #for a single card object\n",
    "            \n",
    "    \n",
    "    def __str__(self):\n",
    "        return f'Player {self.name} has {len(self.all_cards)} cards.'"
   ]
  },
  {
   "cell_type": "code",
   "execution_count": 14,
   "metadata": {},
   "outputs": [],
   "source": [
    "new_player = Player(\"Jose\")"
   ]
  },
  {
   "cell_type": "code",
   "execution_count": 15,
   "metadata": {},
   "outputs": [
    {
     "name": "stdout",
     "output_type": "stream",
     "text": [
      "Player Jose has 0 cards.\n"
     ]
    }
   ],
   "source": [
    "print(new_player)"
   ]
  },
  {
   "cell_type": "code",
   "execution_count": 32,
   "metadata": {},
   "outputs": [],
   "source": [
    "new_player.add_cards(mycard)            #adding one card"
   ]
  },
  {
   "cell_type": "code",
   "execution_count": 16,
   "metadata": {},
   "outputs": [
    {
     "name": "stdout",
     "output_type": "stream",
     "text": [
      "Player Jose has 0 cards.\n"
     ]
    }
   ],
   "source": [
    "print(new_player)"
   ]
  },
  {
   "cell_type": "code",
   "execution_count": 34,
   "metadata": {},
   "outputs": [
    {
     "name": "stdout",
     "output_type": "stream",
     "text": [
      "Queen of Diamonds\n"
     ]
    }
   ],
   "source": [
    "print(new_player.all_cards[0])"
   ]
  },
  {
   "cell_type": "code",
   "execution_count": 17,
   "metadata": {},
   "outputs": [],
   "source": [
    "new_player.add_cards([mycard, mycard, mycard])       #adding multiple cards"
   ]
  },
  {
   "cell_type": "code",
   "execution_count": 36,
   "metadata": {},
   "outputs": [
    {
     "name": "stdout",
     "output_type": "stream",
     "text": [
      "Player Jose has 4 cards.\n"
     ]
    }
   ],
   "source": [
    "print(new_player)          #the one plus the three"
   ]
  },
  {
   "cell_type": "code",
   "execution_count": null,
   "metadata": {},
   "outputs": [],
   "source": []
  },
  {
   "cell_type": "code",
   "execution_count": null,
   "metadata": {},
   "outputs": [],
   "source": []
  },
  {
   "cell_type": "markdown",
   "metadata": {},
   "source": [
    "GAME LOGIC:\n",
    "Creating the overall logic is often the hardest part, it is important to note that we planned the classes around the upcoming logic, so in a real-world situation, you often think of both the logic and classs structures simultanneously, because logic s designed along with the classes\n",
    "\n",
    "LOGIC OUTLINE\n",
    "We need twwo players, Player One and Player Two |\n",
    "We need a deck, shuffled then slipt between the two players|\n",
    "Do a check for 0 cards (loser player), else, game continues /break else|\n",
    "When drawn cards are equal, additional cards to be drawn, using while loop|"
   ]
  },
  {
   "cell_type": "code",
   "execution_count": null,
   "metadata": {},
   "outputs": [],
   "source": [
    "#game setup\n",
    "\n",
    "player_one = Player(\"One\")\n",
    "player_two = Player(\"Two\")\n",
    "\n",
    "new_deck = Deck()          #create new deck, then shuffle it\n",
    "new_deck.shuffle()\n",
    "\n",
    "for x in range(26):                                         #split deck between players\n",
    "    player_one.add_cards(new_deck.deal_one())\n",
    "    player_two.add_cards(new_deck.deal_one())"
   ]
  },
  {
   "cell_type": "code",
   "execution_count": null,
   "metadata": {},
   "outputs": [],
   "source": [
    "game_on = True                  #variable to allow for game to continue"
   ]
  },
  {
   "cell_type": "code",
   "execution_count": null,
   "metadata": {},
   "outputs": [],
   "source": []
  },
  {
   "cell_type": "markdown",
   "metadata": {},
   "source": [
    "Now need to check the player's cards against each other\n",
    "There are lots of ways this can be done\n",
    "We have 3 situations:\n",
    "    Player One > Player Two\n",
    "    Player One < Player Two\n",
    "    Player One == Player Two\n",
    "This is done by writing an if/elif.else within a while loop that assumes that a \"war\" has happened (equal)\n",
    "We state: at_war = False, if the players resolve the match up onthe first drawn cars, otherwise we add cards to the current cards on the table.\n",
    "If there is a tie (war), each player needs to draw 5 additional cards\n",
    "A player loses if they dont have at least 5 cards to play the war\n",
    "\n",
    "Start with (at_war = True)- while at_war, then if One>Two, add cards to One - at_war = False\n",
    "    then if: One < Two, add cards to Two and at_war = False\n",
    "    else: check is players have enough cards, the draw additional cards"
   ]
  },
  {
   "cell_type": "code",
   "execution_count": null,
   "metadata": {},
   "outputs": [],
   "source": [
    "round_num = 0        #counting rounds\n",
    "\n",
    "while game_on:\n",
    "    \n",
    "    round_num += 1\n",
    "    print(f\"Round {round_num}\")\n",
    "          \n",
    "    if len(player_one.all_cards) == 0:              #check to see if anyone is losing, if lost, while loop gets exited\n",
    "          print('Player One, Out of Cards! Player One WIns')\n",
    "          game_on = False\n",
    "          break\n",
    "            \n",
    "    player_one_cards = [ ]       #new round, starts off empty\n",
    "    player_one_cards.append(player_one.remove_one())     #grab card and remove, , starting off\n",
    "    \n",
    "    player_two_cards = [ ]\n",
    "    player_two_cards.append(player_one.remove_one())\n",
    "    \n",
    "    \n",
    "    #check above bar for whats happening\n",
    "    \n",
    "    at_war = True       #starts with at war, then look for situations to end it\n",
    "    \n",
    "    while at_war:\n",
    "        \n",
    "        #-1, ensures then we not always chosing last played card, which will occupy the [0] position\n",
    "        \n",
    "        if player_one_cards[-1].value > player_two_cards[-1].value:     \n",
    "            \n",
    "            player_one.add_cards(player_one_cards)\n",
    "            player_one.add_cards(player_two_cards)      #player 1 adds the addition of  player2 cards\n",
    "            \n",
    "            at_war = False    # clear winner\n",
    "        \n",
    "        \n",
    "        elif player_one_cards[-1].value < player_two_cards[-1].value:\n",
    "            \n",
    "            player_two.add_cards(player_one_cards)\n",
    "            player_two.add_cards(player_two_cards)\n",
    "            \n",
    "            at_war = False         #clear winner\n",
    "            \n",
    "        else: \n",
    "            print(\"WAR!\")\n",
    "            \n",
    "            \n",
    "            if len(player_one.all_cards)< 5:                      #when lose happens (3 can be any other number)\n",
    "                print(\"Player ONE unable to declare war\")\n",
    "                print(\"Player TWO wins\")\n",
    "                game_on = False \n",
    "                break\n",
    "                \n",
    "            elif len(player_two.all_cards)< 5:\n",
    "                print(\"Player TWO unable to declare war\")\n",
    "                print(\"Player ONE wins\")\n",
    "                game_on = False\n",
    "                break\n",
    "                \n",
    "            else:\n",
    "                for num in range(3):\n",
    "                    player_one.cards.append(player_one.remove_one())\n",
    "                    player_two.cards.append(player_one.remove_one())\n",
    "                    "
   ]
  },
  {
   "cell_type": "code",
   "execution_count": null,
   "metadata": {},
   "outputs": [],
   "source": []
  }
 ],
 "metadata": {
  "kernelspec": {
   "display_name": "Python 3",
   "language": "python",
   "name": "python3"
  },
  "language_info": {
   "codemirror_mode": {
    "name": "ipython",
    "version": 3
   },
   "file_extension": ".py",
   "mimetype": "text/x-python",
   "name": "python",
   "nbconvert_exporter": "python",
   "pygments_lexer": "ipython3",
   "version": "3.8.5"
  }
 },
 "nbformat": 4,
 "nbformat_minor": 4
}
