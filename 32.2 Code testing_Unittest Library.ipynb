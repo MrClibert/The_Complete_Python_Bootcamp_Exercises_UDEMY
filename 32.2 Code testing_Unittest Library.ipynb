{
 "cells": [
  {
   "cell_type": "markdown",
   "metadata": {},
   "source": [
    "#Unittest library\n",
    "\n",
    "Allows for writing own test system"
   ]
  },
  {
   "cell_type": "markdown",
   "metadata": {},
   "source": [
    "#In sublime text, open and save two files, one for the code and the other for test code\n",
    "\n",
    "Add code in the first file, then in the second test file:\n",
    "\n",
    "import unittest\n",
    "import <file name>\n",
    "    \n",
    "class Test<file name>(unittest.TestCase):\n",
    "    \n",
    "    def test_one_word(self):\n",
    "        text = 'python'\n",
    "        result = <fileName>.<fileName>_text(text)\n",
    "        self.assertEqual(result, 'Python')\n",
    "    \n",
    "    def test_multiple_words(self):\n",
    "        text = 'monty python'\n",
    "        result = <fileName>.<fileName>_text(text)\n",
    "        self.assertEqual(result, 'Monty Python')\n",
    "    \n",
    "if __name__ == '___main__':\n",
    "    unittest.main()\n",
    "    "
   ]
  },
  {
   "cell_type": "markdown",
   "metadata": {},
   "source": [
    "then run test from command prompt, \"python <fileName>\"   *this will test if code is okay"
   ]
  }
 ],
 "metadata": {
  "kernelspec": {
   "display_name": "Python 3",
   "language": "python",
   "name": "python3"
  },
  "language_info": {
   "codemirror_mode": {
    "name": "ipython",
    "version": 3
   },
   "file_extension": ".py",
   "mimetype": "text/x-python",
   "name": "python",
   "nbconvert_exporter": "python",
   "pygments_lexer": "ipython3",
   "version": "3.8.5"
  }
 },
 "nbformat": 4,
 "nbformat_minor": 4
}
